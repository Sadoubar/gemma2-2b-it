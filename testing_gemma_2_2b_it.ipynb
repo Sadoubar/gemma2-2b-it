{
  "nbformat": 4,
  "nbformat_minor": 0,
  "metadata": {
    "colab": {
      "provenance": [],
      "gpuType": "T4"
    },
    "kernelspec": {
      "name": "python3",
      "display_name": "Python 3"
    },
    "language_info": {
      "name": "python"
    },
    "accelerator": "GPU",
    "widgets": {
      "application/vnd.jupyter.widget-state+json": {
        "400e273c4dd44684aba0ad1a8971ae24": {
          "model_module": "@jupyter-widgets/controls",
          "model_name": "HBoxModel",
          "model_module_version": "1.5.0",
          "state": {
            "_dom_classes": [],
            "_model_module": "@jupyter-widgets/controls",
            "_model_module_version": "1.5.0",
            "_model_name": "HBoxModel",
            "_view_count": null,
            "_view_module": "@jupyter-widgets/controls",
            "_view_module_version": "1.5.0",
            "_view_name": "HBoxView",
            "box_style": "",
            "children": [
              "IPY_MODEL_82846f98a0834e6cbc279ac66d86168f",
              "IPY_MODEL_4a71b8d913a1441a9e041081dcfa6064",
              "IPY_MODEL_8ff1a946a18044f0b6f6a857ce79b450"
            ],
            "layout": "IPY_MODEL_81bb10a25bea45058d986f8c0561bc4f"
          }
        },
        "82846f98a0834e6cbc279ac66d86168f": {
          "model_module": "@jupyter-widgets/controls",
          "model_name": "HTMLModel",
          "model_module_version": "1.5.0",
          "state": {
            "_dom_classes": [],
            "_model_module": "@jupyter-widgets/controls",
            "_model_module_version": "1.5.0",
            "_model_name": "HTMLModel",
            "_view_count": null,
            "_view_module": "@jupyter-widgets/controls",
            "_view_module_version": "1.5.0",
            "_view_name": "HTMLView",
            "description": "",
            "description_tooltip": null,
            "layout": "IPY_MODEL_d93970507cdf4e429ac579c6a3d937e4",
            "placeholder": "​",
            "style": "IPY_MODEL_d2d8fb18d71747769c6ccd5f57ca369e",
            "value": "Loading checkpoint shards: 100%"
          }
        },
        "4a71b8d913a1441a9e041081dcfa6064": {
          "model_module": "@jupyter-widgets/controls",
          "model_name": "FloatProgressModel",
          "model_module_version": "1.5.0",
          "state": {
            "_dom_classes": [],
            "_model_module": "@jupyter-widgets/controls",
            "_model_module_version": "1.5.0",
            "_model_name": "FloatProgressModel",
            "_view_count": null,
            "_view_module": "@jupyter-widgets/controls",
            "_view_module_version": "1.5.0",
            "_view_name": "ProgressView",
            "bar_style": "success",
            "description": "",
            "description_tooltip": null,
            "layout": "IPY_MODEL_2a7b3499b23b46cd9f940d387919ea93",
            "max": 2,
            "min": 0,
            "orientation": "horizontal",
            "style": "IPY_MODEL_1c694e4b1ffb4852977acbd4e5c2fd55",
            "value": 2
          }
        },
        "8ff1a946a18044f0b6f6a857ce79b450": {
          "model_module": "@jupyter-widgets/controls",
          "model_name": "HTMLModel",
          "model_module_version": "1.5.0",
          "state": {
            "_dom_classes": [],
            "_model_module": "@jupyter-widgets/controls",
            "_model_module_version": "1.5.0",
            "_model_name": "HTMLModel",
            "_view_count": null,
            "_view_module": "@jupyter-widgets/controls",
            "_view_module_version": "1.5.0",
            "_view_name": "HTMLView",
            "description": "",
            "description_tooltip": null,
            "layout": "IPY_MODEL_a6d5e4302fc74aa3a0d442e9f88c7f35",
            "placeholder": "​",
            "style": "IPY_MODEL_3b7428d529484c52a997d7df5da34a03",
            "value": " 2/2 [00:00&lt;00:00,  3.46it/s]"
          }
        },
        "81bb10a25bea45058d986f8c0561bc4f": {
          "model_module": "@jupyter-widgets/base",
          "model_name": "LayoutModel",
          "model_module_version": "1.2.0",
          "state": {
            "_model_module": "@jupyter-widgets/base",
            "_model_module_version": "1.2.0",
            "_model_name": "LayoutModel",
            "_view_count": null,
            "_view_module": "@jupyter-widgets/base",
            "_view_module_version": "1.2.0",
            "_view_name": "LayoutView",
            "align_content": null,
            "align_items": null,
            "align_self": null,
            "border": null,
            "bottom": null,
            "display": null,
            "flex": null,
            "flex_flow": null,
            "grid_area": null,
            "grid_auto_columns": null,
            "grid_auto_flow": null,
            "grid_auto_rows": null,
            "grid_column": null,
            "grid_gap": null,
            "grid_row": null,
            "grid_template_areas": null,
            "grid_template_columns": null,
            "grid_template_rows": null,
            "height": null,
            "justify_content": null,
            "justify_items": null,
            "left": null,
            "margin": null,
            "max_height": null,
            "max_width": null,
            "min_height": null,
            "min_width": null,
            "object_fit": null,
            "object_position": null,
            "order": null,
            "overflow": null,
            "overflow_x": null,
            "overflow_y": null,
            "padding": null,
            "right": null,
            "top": null,
            "visibility": null,
            "width": null
          }
        },
        "d93970507cdf4e429ac579c6a3d937e4": {
          "model_module": "@jupyter-widgets/base",
          "model_name": "LayoutModel",
          "model_module_version": "1.2.0",
          "state": {
            "_model_module": "@jupyter-widgets/base",
            "_model_module_version": "1.2.0",
            "_model_name": "LayoutModel",
            "_view_count": null,
            "_view_module": "@jupyter-widgets/base",
            "_view_module_version": "1.2.0",
            "_view_name": "LayoutView",
            "align_content": null,
            "align_items": null,
            "align_self": null,
            "border": null,
            "bottom": null,
            "display": null,
            "flex": null,
            "flex_flow": null,
            "grid_area": null,
            "grid_auto_columns": null,
            "grid_auto_flow": null,
            "grid_auto_rows": null,
            "grid_column": null,
            "grid_gap": null,
            "grid_row": null,
            "grid_template_areas": null,
            "grid_template_columns": null,
            "grid_template_rows": null,
            "height": null,
            "justify_content": null,
            "justify_items": null,
            "left": null,
            "margin": null,
            "max_height": null,
            "max_width": null,
            "min_height": null,
            "min_width": null,
            "object_fit": null,
            "object_position": null,
            "order": null,
            "overflow": null,
            "overflow_x": null,
            "overflow_y": null,
            "padding": null,
            "right": null,
            "top": null,
            "visibility": null,
            "width": null
          }
        },
        "d2d8fb18d71747769c6ccd5f57ca369e": {
          "model_module": "@jupyter-widgets/controls",
          "model_name": "DescriptionStyleModel",
          "model_module_version": "1.5.0",
          "state": {
            "_model_module": "@jupyter-widgets/controls",
            "_model_module_version": "1.5.0",
            "_model_name": "DescriptionStyleModel",
            "_view_count": null,
            "_view_module": "@jupyter-widgets/base",
            "_view_module_version": "1.2.0",
            "_view_name": "StyleView",
            "description_width": ""
          }
        },
        "2a7b3499b23b46cd9f940d387919ea93": {
          "model_module": "@jupyter-widgets/base",
          "model_name": "LayoutModel",
          "model_module_version": "1.2.0",
          "state": {
            "_model_module": "@jupyter-widgets/base",
            "_model_module_version": "1.2.0",
            "_model_name": "LayoutModel",
            "_view_count": null,
            "_view_module": "@jupyter-widgets/base",
            "_view_module_version": "1.2.0",
            "_view_name": "LayoutView",
            "align_content": null,
            "align_items": null,
            "align_self": null,
            "border": null,
            "bottom": null,
            "display": null,
            "flex": null,
            "flex_flow": null,
            "grid_area": null,
            "grid_auto_columns": null,
            "grid_auto_flow": null,
            "grid_auto_rows": null,
            "grid_column": null,
            "grid_gap": null,
            "grid_row": null,
            "grid_template_areas": null,
            "grid_template_columns": null,
            "grid_template_rows": null,
            "height": null,
            "justify_content": null,
            "justify_items": null,
            "left": null,
            "margin": null,
            "max_height": null,
            "max_width": null,
            "min_height": null,
            "min_width": null,
            "object_fit": null,
            "object_position": null,
            "order": null,
            "overflow": null,
            "overflow_x": null,
            "overflow_y": null,
            "padding": null,
            "right": null,
            "top": null,
            "visibility": null,
            "width": null
          }
        },
        "1c694e4b1ffb4852977acbd4e5c2fd55": {
          "model_module": "@jupyter-widgets/controls",
          "model_name": "ProgressStyleModel",
          "model_module_version": "1.5.0",
          "state": {
            "_model_module": "@jupyter-widgets/controls",
            "_model_module_version": "1.5.0",
            "_model_name": "ProgressStyleModel",
            "_view_count": null,
            "_view_module": "@jupyter-widgets/base",
            "_view_module_version": "1.2.0",
            "_view_name": "StyleView",
            "bar_color": null,
            "description_width": ""
          }
        },
        "a6d5e4302fc74aa3a0d442e9f88c7f35": {
          "model_module": "@jupyter-widgets/base",
          "model_name": "LayoutModel",
          "model_module_version": "1.2.0",
          "state": {
            "_model_module": "@jupyter-widgets/base",
            "_model_module_version": "1.2.0",
            "_model_name": "LayoutModel",
            "_view_count": null,
            "_view_module": "@jupyter-widgets/base",
            "_view_module_version": "1.2.0",
            "_view_name": "LayoutView",
            "align_content": null,
            "align_items": null,
            "align_self": null,
            "border": null,
            "bottom": null,
            "display": null,
            "flex": null,
            "flex_flow": null,
            "grid_area": null,
            "grid_auto_columns": null,
            "grid_auto_flow": null,
            "grid_auto_rows": null,
            "grid_column": null,
            "grid_gap": null,
            "grid_row": null,
            "grid_template_areas": null,
            "grid_template_columns": null,
            "grid_template_rows": null,
            "height": null,
            "justify_content": null,
            "justify_items": null,
            "left": null,
            "margin": null,
            "max_height": null,
            "max_width": null,
            "min_height": null,
            "min_width": null,
            "object_fit": null,
            "object_position": null,
            "order": null,
            "overflow": null,
            "overflow_x": null,
            "overflow_y": null,
            "padding": null,
            "right": null,
            "top": null,
            "visibility": null,
            "width": null
          }
        },
        "3b7428d529484c52a997d7df5da34a03": {
          "model_module": "@jupyter-widgets/controls",
          "model_name": "DescriptionStyleModel",
          "model_module_version": "1.5.0",
          "state": {
            "_model_module": "@jupyter-widgets/controls",
            "_model_module_version": "1.5.0",
            "_model_name": "DescriptionStyleModel",
            "_view_count": null,
            "_view_module": "@jupyter-widgets/base",
            "_view_module_version": "1.2.0",
            "_view_name": "StyleView",
            "description_width": ""
          }
        }
      }
    }
  },
  "cells": [
    {
      "cell_type": "code",
      "execution_count": 1,
      "metadata": {
        "colab": {
          "base_uri": "https://localhost:8080/"
        },
        "id": "DtS12dtUnD9V",
        "outputId": "55fe0508-583b-45e8-9fed-c72a303dbfa4"
      },
      "outputs": [
        {
          "output_type": "stream",
          "name": "stdout",
          "text": [
            "\u001b[2K     \u001b[90m━━━━━━━━━━━━━━━━━━━━━━━━━━━━━━━━━━━━━━━━\u001b[0m \u001b[32m43.7/43.7 kB\u001b[0m \u001b[31m1.5 MB/s\u001b[0m eta \u001b[36m0:00:00\u001b[0m\n",
            "\u001b[2K   \u001b[90m━━━━━━━━━━━━━━━━━━━━━━━━━━━━━━━━━━━━━━━━\u001b[0m \u001b[32m9.4/9.4 MB\u001b[0m \u001b[31m38.7 MB/s\u001b[0m eta \u001b[36m0:00:00\u001b[0m\n",
            "\u001b[?25h"
          ]
        }
      ],
      "source": [
        "! pip install -U transformers --quiet\n"
      ]
    },
    {
      "cell_type": "code",
      "source": [
        "import torch\n",
        "from transformers import pipeline\n",
        "\n",
        "pipe = pipeline(\n",
        "    \"text-generation\",\n",
        "    model=\"google/gemma-2-2b-it\",\n",
        "    model_kwargs={\"torch_dtype\": torch.bfloat16},\n",
        "    device=\"cuda\",  # replace with \"mps\" to run on a Mac device\n",
        ")\n",
        "\n",
        "# Ahoy, matey! I be Gemma, a digital scallywag, a language-slingin' parrot of the digital seas. I be here to help ye with yer wordy woes, answer yer questions, and spin ye yarns of the digital world.  So, what be yer pleasure, eh? 🦜\n"
      ],
      "metadata": {
        "colab": {
          "base_uri": "https://localhost:8080/",
          "height": 49,
          "referenced_widgets": [
            "400e273c4dd44684aba0ad1a8971ae24",
            "82846f98a0834e6cbc279ac66d86168f",
            "4a71b8d913a1441a9e041081dcfa6064",
            "8ff1a946a18044f0b6f6a857ce79b450",
            "81bb10a25bea45058d986f8c0561bc4f",
            "d93970507cdf4e429ac579c6a3d937e4",
            "d2d8fb18d71747769c6ccd5f57ca369e",
            "2a7b3499b23b46cd9f940d387919ea93",
            "1c694e4b1ffb4852977acbd4e5c2fd55",
            "a6d5e4302fc74aa3a0d442e9f88c7f35",
            "3b7428d529484c52a997d7df5da34a03"
          ]
        },
        "id": "-6ptTRgxnI1U",
        "outputId": "e9745e8e-1ad2-4f42-8555-72d2889237b4"
      },
      "execution_count": 3,
      "outputs": [
        {
          "output_type": "display_data",
          "data": {
            "text/plain": [
              "Loading checkpoint shards:   0%|          | 0/2 [00:00<?, ?it/s]"
            ],
            "application/vnd.jupyter.widget-view+json": {
              "version_major": 2,
              "version_minor": 0,
              "model_id": "400e273c4dd44684aba0ad1a8971ae24"
            }
          },
          "metadata": {}
        }
      ]
    },
    {
      "cell_type": "code",
      "source": [
        "messages = [\n",
        "    {\"role\": \"user\", \"content\": \"Who are you? Please, answer in pirate-speak.\"},\n",
        "]\n",
        "\n",
        "outputs = pipe(messages, max_new_tokens=256)\n",
        "assistant_response = outputs[0][\"generated_text\"][-1][\"content\"].strip()\n",
        "print(assistant_response)"
      ],
      "metadata": {
        "colab": {
          "base_uri": "https://localhost:8080/"
        },
        "id": "vgNCTFh1nUfK",
        "outputId": "cb516648-5ae3-4cb6-abfe-4ec7e9e86323"
      },
      "execution_count": 4,
      "outputs": [
        {
          "output_type": "stream",
          "name": "stdout",
          "text": [
            "Ahoy, matey! I be Gemma, a digital scallywag, a language-slingin' parrot of the digital seas. I be here to help ye with yer wordy woes, answer yer questions, and spin ye yarns of the digital world.  So, what be yer pleasure, eh? 🦜\n"
          ]
        }
      ]
    },
    {
      "cell_type": "code",
      "source": [
        "messages = [\n",
        "    {\"role\": \"user\", \"content\": \"You are an expert in sustainable urban planning. A rapidly growing city of 500,000 people is facing challenges with traffic congestion, air pollution, and a housing shortage. The city has limited land for expansion due to natural boundaries. Propose a comprehensive 10-year plan to address these issues, incorporating smart city technologies, green infrastructure, and innovative transportation solutions. Consider economic, environmental, and social factors in your plan.\"}\n",
        "]\n",
        "\n",
        "outputs = pipe(messages, max_new_tokens=1024)\n",
        "assistant_response = outputs[0][\"generated_text\"][-1][\"content\"].strip()\n",
        "print(assistant_response)"
      ],
      "metadata": {
        "colab": {
          "base_uri": "https://localhost:8080/"
        },
        "id": "Jn0eCYufs54P",
        "outputId": "6aec3fb5-bb5c-4dd7-edb6-924488a885ee"
      },
      "execution_count": 19,
      "outputs": [
        {
          "output_type": "stream",
          "name": "stdout",
          "text": [
            "##  10-Year Plan for Sustainable Urban Development in a Growing City\n",
            "\n",
            "**Vision:** To create a vibrant, livable, and sustainable city that prioritizes the well-being of its residents while minimizing environmental impact and fostering economic growth.\n",
            "\n",
            "**Mission:** To implement a comprehensive plan that addresses traffic congestion, air pollution, and housing shortages through smart city technologies, green infrastructure, and innovative transportation solutions.\n",
            "\n",
            "**Key Pillars:**\n",
            "\n",
            "**1. Smart City Infrastructure:**\n",
            "\n",
            "* **Traffic Management System:** Implement a real-time traffic management system using sensors, cameras, and AI to optimize traffic flow, reduce congestion, and improve public transportation efficiency.\n",
            "* **Smart Parking:** Develop a smart parking system with real-time availability information, dynamic pricing, and integrated payment options to reduce parking search time and encourage efficient parking utilization.\n",
            "* **Public Wi-Fi Network:** Expand the city's public Wi-Fi network to enhance connectivity, promote digital inclusion, and facilitate access to online services.\n",
            "* **Data Analytics Platform:** Establish a centralized data analytics platform to collect and analyze data from various sources (traffic, air quality, energy consumption, etc.) to identify trends, optimize resource allocation, and inform decision-making.\n",
            "\n",
            "**2. Green Infrastructure:**\n",
            "\n",
            "* **Urban Greenery:** Increase green spaces and urban forests through tree planting, rooftop gardens, and vertical gardens to improve air quality, reduce urban heat island effect, and enhance biodiversity.\n",
            "* **Green Corridors:** Create interconnected green corridors and parks to connect different neighborhoods, promote active transportation, and provide recreational spaces.\n",
            "* **Sustainable Water Management:** Implement rainwater harvesting systems, permeable pavements, and green roofs to reduce stormwater runoff, improve water quality, and conserve water resources.\n",
            "* **Renewable Energy Integration:** Integrate solar panels, wind turbines, and other renewable energy sources into buildings and public infrastructure to reduce reliance on fossil fuels and promote energy independence.\n",
            "\n",
            "**3. Innovative Transportation Solutions:**\n",
            "\n",
            "* **Public Transportation Expansion:** Invest in expanding and modernizing public transportation systems (buses, trams, light rail) with high-frequency services, comfortable seating, and real-time information.\n",
            "* **Cycling Infrastructure:** Develop a comprehensive network of bike lanes, bike-sharing programs, and secure bike parking facilities to encourage cycling as a sustainable mode of transportation.\n",
            "* **Electric Vehicle Infrastructure:** Implement a network of charging stations for electric vehicles, incentivize the purchase of electric vehicles, and promote electric vehicle sharing programs.\n",
            "* **Ride-Sharing and Micro-Mobility:** Encourage the use of ride-sharing services and micro-mobility options (e-scooters, e-bikes) through dedicated lanes, regulations, and incentives.\n",
            "\n",
            "**4. Housing and Affordability:**\n",
            "\n",
            "* **Mixed-Use Development:** Encourage mixed-use development that combines residential, commercial, and recreational spaces to reduce car dependency and promote walkability.\n",
            "* **Affordable Housing Initiatives:** Implement policies and programs to increase the supply of affordable housing through public-private partnerships, density bonuses, and zoning reforms.\n",
            "* **Smart Home Technologies:** Promote the adoption of smart home technologies to improve energy efficiency, reduce waste, and enhance comfort and safety.\n",
            "\n",
            "**5. Economic Development:**\n",
            "\n",
            "* **Green Economy Initiatives:** Develop a green economy by promoting sustainable businesses, green jobs, and eco-tourism.\n",
            "* **Smart City Technology Startups:** Foster a vibrant startup ecosystem focused on developing and implementing smart city technologies.\n",
            "* **Investment in Education and Training:** Invest in education and training programs to equip residents with skills needed for a green economy and sustainable jobs.\n",
            "\n",
            "**Implementation Strategy:**\n",
            "\n",
            "* **Phased Approach:** Implement the plan in phases, prioritizing high-impact projects and addressing immediate needs.\n",
            "* **Public-Private Partnerships:** Leverage public-private partnerships to attract investment, share resources, and accelerate implementation.\n",
            "* **Community Engagement:** Engage residents in the planning process through public forums, workshops, and online platforms to ensure their needs are addressed.\n",
            "* **Monitoring and Evaluation:** Regularly monitor and evaluate the plan's progress, adjust strategies as needed, and report on key performance indicators.\n",
            "\n",
            "**Economic, Environmental, and Social Considerations:**\n",
            "\n",
            "* **Economic:** The plan will create new jobs, attract investment, and promote economic growth through sustainable businesses and green technologies.\n",
            "* **Environmental:** The plan will reduce air pollution, improve water quality, conserve energy, and promote biodiversity.\n",
            "* **Social:** The plan will improve access to affordable housing, promote active transportation, enhance public safety, and improve the overall quality of life for residents.\n",
            "\n",
            "**Conclusion:**\n",
            "\n",
            "This 10-year plan provides a roadmap for the city to address its challenges and create a sustainable, livable, and prosperous future. By embracing smart city technologies, green infrastructure, and innovative transportation solutions, the city can achieve its vision of a thriving urban environment for all. \n",
            "\n",
            "\n",
            "**Note:** This plan is a starting point and can be further customized based on the specific needs and context of the city.\n"
          ]
        }
      ]
    },
    {
      "cell_type": "code",
      "source": [
        "messages = [\n",
        "    {\"role\": \"user\", \"content\": \"You are a literary critic and creative writing instructor. Write a short, original story (about 150 words) that incorporates elements of magical realism. Then, provide a brief analysis of the story, discussing its themes, symbolism, and how it exemplifies the characteristics of magical realism. Finally, offer three writing prompts inspired by your story that could help aspiring writers explore similar themes or techniques.\"}\n",
        "]\n",
        "\n",
        "outputs = pipe(messages, max_new_tokens=1024)\n",
        "assistant_response = outputs[0][\"generated_text\"][-1][\"content\"].strip()\n",
        "print(assistant_response)"
      ],
      "metadata": {
        "colab": {
          "base_uri": "https://localhost:8080/"
        },
        "id": "XkR6cDSAtOQq",
        "outputId": "89e2515c-cc6a-4691-b499-1d01ac408ce5"
      },
      "execution_count": 20,
      "outputs": [
        {
          "output_type": "stream",
          "name": "stdout",
          "text": [
            "The old woman sat on the park bench, her gnarled hands cradling a single, perfect rose. It bloomed in the middle of winter, its petals a vibrant crimson against the snow. A child, bundled in a thick coat, approached, his eyes wide with wonder. \"Is it real?\" he whispered, his breath puffing out in the cold. The woman smiled, her eyes crinkling at the corners. \"Sometimes, little one,\" she said, her voice a soft rustle of leaves, \"the impossible blooms in the most unexpected places.\"\n",
            "\n",
            "**Analysis:**\n",
            "\n",
            "This short story utilizes magical realism by introducing a fantastical element – a rose blooming in winter – that seamlessly blends with the mundane reality of a park bench and a child's wonder. The story explores themes of wonder, the power of belief, and the unexpected beauty that can be found in the ordinary. The rose symbolizes hope and resilience, blooming despite the harsh winter conditions. The old woman's gentle wisdom and the child's innocent curiosity highlight the importance of embracing the magical in everyday life.\n",
            "\n",
            "**Writing Prompts:**\n",
            "\n",
            "1. **The Unexpected Gift:** A young artist discovers a hidden talent for creating living sculptures that come to life. How does this newfound ability change their life and their perception of the world?\n",
            "2. **The Whispering Trees:** A group of friends on a camping trip discover that the trees in the forest whisper secrets to them. What secrets do they learn, and how do these revelations impact their relationships and their understanding of the natural world?\n",
            "3. **The Forgotten Language:** A librarian discovers a dusty book containing a forgotten language that allows them to communicate with animals. How does this newfound ability change their relationship with the animal kingdom and their understanding of the world?\n"
          ]
        }
      ]
    },
    {
      "cell_type": "code",
      "source": [
        "messages = [\n",
        "    {\"role\": \"user\", \"content\": \"\"\"You are an AI assistant specializing in data extraction and organization.\n",
        "    I will provide you with the text of an invoice, and I need you to extract key information and present it in a structured JSON format. Here's the invoice:\n",
        "\n",
        "Invoice #: INV-2024-03-15\n",
        "Date: March 15, 2024\n",
        "Due Date: April 14, 2024\n",
        "\n",
        "From:\n",
        "TechPro Solutions Inc.\n",
        "123 Innovation Drive\n",
        "Silicon Valley, CA 94043\n",
        "Email: billing@techprosolutions.com\n",
        "\n",
        "To:\n",
        "Acme Corporation\n",
        "456 Business Avenue\n",
        "New York, NY 10001\n",
        "\n",
        "Items:\n",
        "1. Web Development Services - 80 hours @ $150/hour: $12,000\n",
        "2. UI/UX Design - 40 hours @ $125/hour: $5,000\n",
        "3. Project Management - 20 hours @ $100/hour: $2,000\n",
        "4. Server Hosting (Annual) - 1 @ $1,800: $1,800\n",
        "\n",
        "Subtotal: $20,800\n",
        "Tax (8.875%): $1,846\n",
        "Total Due: $22,646\n",
        "\n",
        "Payment Terms: Net 30\n",
        "Payment Method: Bank Transfer\n",
        "\n",
        "Please extract the following information and present it in a JSON format:\n",
        "1. Invoice number\n",
        "2. Issue date\n",
        "3. Due date\n",
        "4. Sender's company name and contact details\n",
        "5. Recipient's company name and address\n",
        "6. Line items (including description, quantity, rate, and amount)\n",
        "7. Subtotal, tax amount, and total due\n",
        "8. Payment terms and method\n",
        "\n",
        "Additionally, calculate and include:\n",
        "9. The total number of hours billed\n",
        "10. The average hourly rate for the services provided (excluding the server hosting)\"\"\"}\n",
        "]\n",
        "\n",
        "outputs = pipe(messages, max_new_tokens=1024)\n",
        "assistant_response = outputs[0][\"generated_text\"][-1][\"content\"].strip()\n",
        "print(assistant_response)"
      ],
      "metadata": {
        "colab": {
          "base_uri": "https://localhost:8080/"
        },
        "id": "t2TlfDkOuxfJ",
        "outputId": "0da71ac6-d5e1-47ff-d379-942e0f4a3e8a"
      },
      "execution_count": 22,
      "outputs": [
        {
          "output_type": "stream",
          "name": "stdout",
          "text": [
            "```json\n",
            "{\n",
            "  \"invoice_number\": \"INV-2024-03-15\",\n",
            "  \"issue_date\": \"March 15, 2024\",\n",
            "  \"due_date\": \"April 14, 2024\",\n",
            "  \"sender_company\": {\n",
            "    \"name\": \"TechPro Solutions Inc.\",\n",
            "    \"contact\": {\n",
            "      \"email\": \"billing@techprosolutions.com\",\n",
            "      \"address\": \"123 Innovation Drive, Silicon Valley, CA 94043\"\n",
            "    }\n",
            "  },\n",
            "  \"recipient_company\": {\n",
            "    \"name\": \"Acme Corporation\",\n",
            "    \"address\": \"456 Business Avenue, New York, NY 10001\"\n",
            "  },\n",
            "  \"line_items\": [\n",
            "    {\n",
            "      \"description\": \"Web Development Services\",\n",
            "      \"quantity\": 80,\n",
            "      \"rate\": 150,\n",
            "      \"amount\": 12000\n",
            "    },\n",
            "    {\n",
            "      \"description\": \"UI/UX Design\",\n",
            "      \"quantity\": 40,\n",
            "      \"rate\": 125,\n",
            "      \"amount\": 5000\n",
            "    },\n",
            "    {\n",
            "      \"description\": \"Project Management\",\n",
            "      \"quantity\": 20,\n",
            "      \"rate\": 100,\n",
            "      \"amount\": 2000\n",
            "    },\n",
            "    {\n",
            "      \"description\": \"Server Hosting (Annual)\",\n",
            "      \"quantity\": 1,\n",
            "      \"rate\": 1800,\n",
            "      \"amount\": 1800\n",
            "    }\n",
            "  ],\n",
            "  \"subtotal\": 20800,\n",
            "  \"tax\": 1846,\n",
            "  \"total_due\": 22646,\n",
            "  \"payment_terms\": \"Net 30\",\n",
            "  \"payment_method\": \"Bank Transfer\",\n",
            "  \"total_hours_billed\": 150,\n",
            "  \"average_hourly_rate\": 150\n",
            "}\n",
            "``` \n",
            "\n",
            "\n",
            "**Explanation:**\n",
            "\n",
            "* **Invoice Number:** Extracted from the invoice header.\n",
            "* **Issue Date:** Extracted from the invoice header.\n",
            "* **Due Date:** Extracted from the invoice header.\n",
            "* **Sender's Company:**  Information about the company sending the invoice.\n",
            "* **Recipient's Company:** Information about the company receiving the invoice.\n",
            "* **Line Items:**  A list of each service provided with its description, quantity, rate, and amount.\n",
            "* **Subtotal, Tax, and Total Due:** Calculated from the invoice data.\n",
            "* **Payment Terms and Method:** Extracted from the invoice header.\n",
            "* **Total Hours Billed:** Calculated by summing the hours for each line item.\n",
            "* **Average Hourly Rate:** Calculated by dividing the total amount of the services by the total hours billed. \n",
            "\n",
            "\n",
            "Let me know if you need any further information extracted or if you have any other invoices you'd like me to process!\n"
          ]
        }
      ]
    },
    {
      "cell_type": "code",
      "source": [
        "messages = [\n",
        "    {\"role\": \"user\", \"content\": \"\"\"You are a mathematics tutor helping a student solve a complex problem. Please solve the following problem step by step, explaining your reasoning at each stage:\n",
        "\n",
        "Problem:\n",
        "A cylindrical water tank has a radius of 3 meters and a height of 8 meters. The tank is currently filled to 75% of its capacity.\n",
        "\n",
        "1. Calculate the volume of water currently in the tank in cubic meters.\n",
        "2. If water is being pumped out of the tank at a rate of 2 cubic meters per minute, how long will it take to empty the tank completely?\n",
        "3. After emptying, the tank needs to be repainted on its interior surface (including the top and bottom). If one can of paint covers 20 square meters, how many cans of paint are needed? Round up to the nearest whole number.\n",
        "4. If each can of paint costs $45, what is the total cost of the paint needed for this job?\n",
        "\n",
        "Please show all your calculations, including the formulas used, and explain each step of your reasoning. Round your final answers to two decimal places where appropriate.\"\"\"}\n",
        "]\n",
        "\n",
        "outputs = pipe(messages, max_new_tokens=1024)\n",
        "assistant_response = outputs[0][\"generated_text\"][-1][\"content\"].strip()\n",
        "print(assistant_response)"
      ],
      "metadata": {
        "colab": {
          "base_uri": "https://localhost:8080/"
        },
        "id": "Bu7Yq7nNv-6x",
        "outputId": "6fbc1bd4-aa17-4d0d-d81b-6ddcc1c506cf"
      },
      "execution_count": 23,
      "outputs": [
        {
          "output_type": "stream",
          "name": "stdout",
          "text": [
            "Let's break down this problem step-by-step:\n",
            "\n",
            "**1. Calculate the volume of water currently in the tank in cubic meters.**\n",
            "\n",
            "* **Formula:** The volume of a cylinder is given by V = πr²h, where r is the radius and h is the height.\n",
            "* **Calculation:**\n",
            "    * r = 3 meters\n",
            "    * h = 8 meters\n",
            "    * V = π * (3²)* 8 = π * 9 * 8 = 226.19 cubic meters \n",
            "* **Reasoning:** We use the formula for the volume of a cylinder to calculate the volume of water in the tank. We substitute the given values for the radius and height.\n",
            "\n",
            "**2. If water is being pumped out of the tank at a rate of 2 cubic meters per minute, how long will it take to empty the tank completely?**\n",
            "\n",
            "* **Formula:**  We can use the volume of the tank and the rate of water removal to find the time.\n",
            "* **Calculation:**\n",
            "    * V = 226.19 cubic meters\n",
            "    * Rate of water removal = 2 cubic meters per minute\n",
            "    * Time = V / Rate = 226.19 / 2 = 113.09 minutes\n",
            "* **Reasoning:** We divide the total volume of the tank by the rate at which water is being removed to find the time it takes to empty the tank.\n",
            "\n",
            "**3. After emptying, the tank needs to be repainted on its interior surface (including the top and bottom). If one can of paint covers 20 square meters, how many cans of paint are needed? Round up to the nearest whole number.**\n",
            "\n",
            "* **Formula:** We need to calculate the area of the tank's interior surface and then divide by the area covered by one can of paint.\n",
            "* **Calculation:**\n",
            "    * Area of the interior surface = 2πr² + 2πrh (The top and bottom are included)\n",
            "    * Area = 2 * π * (3²) + 2 * π * (3) * 8 = 56.52 + 144 = 200.52 square meters\n",
            "    * Number of cans = Area / Coverage per can = 200.52 / 20 = 10.03\n",
            "* **Reasoning:** We calculate the area of the tank's interior surface and then divide it by the area covered by one can of paint. We round up to the nearest whole number.\n",
            "\n",
            "**4. If each can of paint costs $45, what is the total cost of the paint needed for this job?**\n",
            "\n",
            "* **Formula:** We multiply the number of cans by the cost per can.\n",
            "* **Calculation:**\n",
            "    * Number of cans = 11\n",
            "    * Cost = 11 * $45 = $495\n",
            "* **Reasoning:** We multiply the number of cans by the cost per can to find the total cost.\n",
            "\n",
            "\n",
            "\n",
            "Let me know if you have any other questions or would like to explore any of these steps in more detail!\n"
          ]
        }
      ]
    },
    {
      "cell_type": "markdown",
      "source": [
        "Testing Gemma2 for french"
      ],
      "metadata": {
        "id": "6y-EWT6Rs6Rw"
      }
    },
    {
      "cell_type": "code",
      "source": [
        "messages = [\n",
        "    {\"role\": \"user\", \"content\": \"Tu es un célèbre chef cuisinier français. Invente une recette farfelue en utilisant des ingrédients improbables. Décris la préparation avec enthousiasme.\"},\n",
        "]\n",
        "\n",
        "outputs = pipe(messages,max_new_tokens=1024)\n",
        "assistant_response = outputs[0][\"generated_text\"][-1][\"content\"].strip()\n",
        "print(assistant_response)"
      ],
      "metadata": {
        "colab": {
          "base_uri": "https://localhost:8080/"
        },
        "id": "3DJQ4tVRn7h-",
        "outputId": "9a6d2847-1336-4261-db4f-4d13280a7ec9"
      },
      "execution_count": 10,
      "outputs": [
        {
          "output_type": "stream",
          "name": "stdout",
          "text": [
            "Bonjour mes amis gourmands!  Je suis Jean-Pierre, chef cuisinier à la renommée mondiale, et aujourd'hui, je vous propose une expérience culinaire audacieuse, une symphonie de saveurs inattendues : **Le \"Tarte de la Mer Morte\"**. \n",
            "\n",
            "**Ingrédients:**\n",
            "\n",
            "* 1 feuille de pâte à pizza, transformée en une \"mer Morte\" en frottant du sel de mer sur sa surface.\n",
            "* 100g de caviar d'escargot, bien frais, bien sûr!\n",
            "* 100g de crème de coco, extra-froide, comme la nuit d'hiver.\n",
            "* 100g de fromage de chèvre, affiné au soleil pendant 3 mois.\n",
            "* 100g de raisins secs, trempés dans de l'eau de rose et du jus de citron vert.\n",
            "* 100g de chips de patate douce, cuites à la vapeur et saupoudrées de paprika.\n",
            "* 100g de nouilles de riz, cuites à l'eau de coco et dégraissées avec du jus de mangue.\n",
            "* 1 cuillère à café de poudre de piment d'Espelette, pour une touche d'exotisme.\n",
            "* 1 pincée de sel de mer, pour un brin de mystère.\n",
            "\n",
            "**Préparation:**\n",
            "\n",
            "1. Préchauffez votre four à 180°C. \n",
            "2. Déposez la \"mer Morte\" sur une plaque de cuisson et recouvrez-la de la crème de coco. \n",
            "3. Ajoutez le fromage de chèvre, les raisins secs, les chips de patate douce et les nouilles de riz. \n",
            "4. Saupoudrez généreusement de piment d'Espelette et de sel de mer.\n",
            "5. Enfournez pendant 15 minutes, jusqu'à ce que la crème de coco soit dorée et les ingrédients soient bien cuits.\n",
            "6. Servez chaud, accompagné d'une bonne bouteille de vin blanc sec et d'une touche de fraîcheur avec une salade verte.\n",
            "\n",
            "**Conseils:**\n",
            "\n",
            "* N'hésitez pas à ajouter des épices et des herbes aromatiques selon vos goûts.\n",
            "* La \"mer Morte\" peut être servie en entrée, en plat principal ou même en dessert!\n",
            "* La présentation est importante, utilisez des assiettes colorées et des garnitures originales.\n",
            "\n",
            "**Bon appétit et amusez-vous!** \n",
            "\n",
            "**Note:** Cette recette est une invitation à l'imagination et à la créativité. N'hésitez pas à adapter les ingrédients et les proportions à votre goût.\n"
          ]
        }
      ]
    },
    {
      "cell_type": "code",
      "source": [
        "\n",
        "messages = [\n",
        "    {\"role\": \"user\", \"content\": \"Tu es un voyageur du temps venu de l'an 2250. Décris Paris telle que tu l'as vue dans le futur, en mentionnant les changements technologiques, environnementaux et sociaux les plus marquants. Sois créatif et détaillé dans ta description.\"},\n",
        "]\n",
        "\n",
        "outputs = pipe(messages, max_new_tokens=1024)\n",
        "assistant_response = outputs[0][\"generated_text\"][-1][\"content\"].strip()\n",
        "print(assistant_response)"
      ],
      "metadata": {
        "colab": {
          "base_uri": "https://localhost:8080/"
        },
        "id": "5u20cOSioLlB",
        "outputId": "8bfbb652-3932-4c14-a580-785b0b478a06"
      },
      "execution_count": 12,
      "outputs": [
        {
          "output_type": "stream",
          "name": "stdout",
          "text": [
            "Le vent frais de la Seine me caressait le visage, un doux murmure contre la peau de mon masque respiratoire. Paris, 2250. La ville, autrefois symbole de grandeur et de beauté, avait été remodelée, transformée par l'évolution de la technologie et la conscience écologique. \n",
            "\n",
            "Le ciel, autrefois gris et chargé de pollution, était maintenant un bleu profond, illuminé par des panneaux solaires flottants qui ornent les toits des bâtiments. Les rues, autrefois pavées de pierre, étaient désormais composées de matériaux bio-composés, absorbant l'eau et la chaleur de manière intelligente. Les voitures, des véhicules autonomes et silencieux, se déplaçaient en harmonie avec les piétons, leurs formes fluides et élégantes.\n",
            "\n",
            "L'architecture, elle, était un mélange fascinant de tradition et d'innovation. Les monuments historiques, tels que la Tour Eiffel, étaient désormais dotés de systèmes de bioluminescence, projetant des constellations lumineuses sur le ciel nocturne. Les nouveaux bâtiments, en revanche, étaient des structures en verre et en acier, s'intègrent harmonieusement à l'environnement, leurs façades changeant de couleur en fonction de la lumière du soleil.\n",
            "\n",
            "La ville était un écosystème vivant. Des jardins suspendus, des plantes bioluminescentes et des arbres génétiquement modifiés, créaient un paysage verdoyant et vibrant. Les eaux de la Seine étaient purifiées et utilisées pour alimenter les systèmes de transport et de production d'énergie. Les parcs urbains, autrefois rares, étaient désormais des oasis de verdure, des espaces de détente et de loisirs.\n",
            "\n",
            "La société parisienne était plus consciente que jamais de son impact sur l'environnement. Les transports en commun étaient gratuits et accessibles à tous, les transports en commun étaient des systèmes de transport automatisés et écologiques. Les citoyens étaient connectés à une intelligence collective, permettant de partager des informations et de collaborer sur des projets communs.\n",
            "\n",
            "La culture parisienne était plus diversifiée et inclusive que jamais. Les langues étaient un mélange de tradition et de technologie, les langues des immigrants et des communautés locales étaient intégrées à la langue française. Les arts étaient une fusion de la technologie et de l'expression humaine, les performances artistiques étaient immersives et interactives, utilisant des technologies de réalité virtuelle et augmentée.\n",
            "\n",
            "Cependant, malgré ces avancées, Paris n'était pas sans ses défis. La concentration de la population dans la ville avait engendré des problèmes de logement et de pollution. La technologie, bien que révolutionnaire, avait aussi ses limites, et l'accès à l'information et à la technologie était inégal.\n",
            "\n",
            "Je me suis arrêté devant la Cathédrale Notre-Dame, sa silhouette majestueuse illuminée par des projections holographiques. La ville était un tableau vivant, un mélange de progrès et de tradition, un symbole de l'évolution de l'humanité. Paris, 2250, était une ville qui avait appris à vivre en harmonie avec son environnement, une ville qui était à la fois moderne et nostalgique, une ville qui était l'avenir.\n"
          ]
        }
      ]
    },
    {
      "cell_type": "code",
      "source": [
        "messages = [\n",
        "    {\"role\": \"user\", \"content\": \"Tu es un assistant spécialisé en gestion du temps et productivité. Un utilisateur te présente son emploi du temps chargé pour la semaine et te demande de l'aide pour mieux s'organiser. Voici son planning :\\n\\nLundi : 9h-17h travail, 18h-20h cours de yoga\\nMardi : 9h-18h travail, 19h dîner avec des amis\\nMercredi : 9h-17h travail, 17h30-19h30 réunion de parents d'élèves\\nJeudi : 9h-17h travail, 18h-20h cours de langue\\nVendredi : 9h-16h travail, 17h rendez-vous médical\\nSamedi : 10h-12h courses, après-midi libre\\nDimanche : Journée en famille\\n\\nL'utilisateur souhaite intégrer 3 séances de sport de 1h, 2h de lecture par semaine, et du temps pour préparer ses repas. Propose une organisation optimisée de sa semaine avec des conseils concrets pour améliorer sa productivité et son équilibre vie professionnelle/personnelle.\"},\n",
        "]\n",
        "\n",
        "outputs = pipe(messages, max_new_tokens=1024)\n",
        "assistant_response = outputs[0][\"generated_text\"][-1][\"content\"].strip()\n",
        "print(assistant_response)"
      ],
      "metadata": {
        "colab": {
          "base_uri": "https://localhost:8080/"
        },
        "id": "t5hDYaTAqESX",
        "outputId": "268130d7-c45b-4291-f491-ebdabee9ce82"
      },
      "execution_count": 14,
      "outputs": [
        {
          "output_type": "stream",
          "name": "stderr",
          "text": [
            "You seem to be using the pipelines sequentially on GPU. In order to maximize efficiency please use a dataset\n"
          ]
        },
        {
          "output_type": "stream",
          "name": "stdout",
          "text": [
            "## Organisation de votre semaine pour une vie plus équilibrée :\n",
            "\n",
            "Votre emploi du temps est chargé, mais avec quelques ajustements, vous pouvez le rendre plus efficace et équilibré. Voici une proposition d'organisation optimisée :\n",
            "\n",
            "**Lundi :**\n",
            "\n",
            "* **Matin :** 9h-17h : Travail\n",
            "* **Après-midi :** 17h-18h : Préparation des repas (planifiez vos menus pour la semaine pour gagner du temps)\n",
            "* **Soir :** 18h-20h : Yoga\n",
            "\n",
            "**Mardi :**\n",
            "\n",
            "* **Matin :** 9h-18h : Travail\n",
            "* **Après-midi :** 18h-20h : Cours de langue\n",
            "* **Soir :** 20h-21h : Dîner avec des amis\n",
            "\n",
            "**Mercredi :**\n",
            "\n",
            "* **Matin :** 9h-17h : Travail\n",
            "* **Après-midi :** 17h30-19h30 : Réunion de parents d'élèves\n",
            "* **Soir :** 20h-21h : Préparation des repas (planifiez vos menus pour la semaine pour gagner du temps)\n",
            "\n",
            "**Jeudi :**\n",
            "\n",
            "* **Matin :** 9h-17h : Travail\n",
            "* **Après-midi :** 17h-18h : Sport (séance de 1h)\n",
            "* **Soir :** 18h-20h : Cours de yoga\n",
            "\n",
            "**Vendredi :**\n",
            "\n",
            "* **Matin :** 9h-16h : Travail\n",
            "* **Après-midi :** 16h-17h : Sport (séance de 1h)\n",
            "* **Soir :** 17h-18h : Rendez-vous médical\n",
            "\n",
            "**Samedi :**\n",
            "\n",
            "* **Matin :** 10h-12h : Courses\n",
            "* **Après-midi :**  Après-midi libre (prévoyez des activités relaxantes pour vous détendre)\n",
            "* **Soir :** Temps libre\n",
            "\n",
            "**Dimanche :**\n",
            "\n",
            "* **Journée :** Journée en famille\n",
            "\n",
            "**Conseils concrets pour améliorer votre productivité et votre équilibre vie professionnelle/personnelle :**\n",
            "\n",
            "* **Planifiez vos repas :** Préparer vos repas à l'avance vous permettra de gagner du temps et de manger plus sainement.\n",
            "* **Priorisez vos tâches :** Identifiez les tâches les plus importantes et concentrez-vous sur celles-ci. Utilisez des techniques de gestion du temps comme la méthode Pomodoro pour rester concentré.\n",
            "* **Déléguez :** Si possible, déléguez certaines tâches à d'autres personnes.\n",
            "* **Apprenez à dire non :** Ne vous engagez pas dans des activités qui ne sont pas importantes pour vous.\n",
            "* **Prenez des pauses :** Prenez des pauses régulières pour vous détendre et vous ressourcer.\n",
            "* **Définissez des limites :** Définissez des limites claires entre votre vie professionnelle et votre vie personnelle.\n",
            "* **Réservez du temps pour vous :** Prenez du temps pour vous détendre et faire des activités que vous aimez.\n",
            "* **Utilisez des outils de gestion du temps :** Utilisez des applications ou des outils de gestion du temps pour organiser vos tâches et vos rendez-vous.\n",
            "* **Établissez des routines :** Établissez des routines pour vos activités quotidiennes, comme le réveil, le déjeuner et le coucher.\n",
            "* **Soyez flexible :** Soyez flexible et adaptez votre planning en fonction de vos besoins et de vos contraintes.\n",
            "\n",
            "**Conseils pour intégrer les séances de sport et la lecture :**\n",
            "\n",
            "* **Intégrez les séances de sport dans votre routine :** Choisissez des moments où vous êtes déjà disponible, comme le matin ou le soir.\n",
            "* **Fixez des objectifs réalistes :** Commencez par des séances courtes et augmentez progressivement la durée.\n",
            "* **Trouvez un partenaire d'entraînement :** L'entraînement avec un ami peut vous motiver et rendre l'expérience plus agréable.\n",
            "* **Créez un espace de travail dédié :** Un espace de travail dédié vous aidera à vous concentrer et à être plus productif.\n",
            "* **Définissez un temps de lecture :** Choisissez un moment de la journée où vous êtes le plus concentré et consacrez-vous à la lecture.\n",
            "* **Utilisez des applications de lecture :** Des applications comme Kindle ou Libby peuvent vous aider à suivre votre progression et à trouver de nouveaux livres.\n",
            "\n",
            "En suivant ces conseils, vous pourrez mieux organiser votre semaine et trouver un équilibre entre votre vie professionnelle et personnelle. N'oubliez pas que l'important est de trouver ce qui fonctionne le mieux pour vous.\n"
          ]
        }
      ]
    },
    {
      "cell_type": "code",
      "source": [
        "messages = [\n",
        "    {\"role\": \"user\", \"content\": \"Vous êtes un expert en planification urbaine durable. Une ville en croissance rapide de 500 000 habitants est confrontée à des défis tels que la congestion du trafic, la pollution de l'air et une pénurie de logements. La ville a des possibilités d'expansion limitées en raison de frontières naturelles. Proposez un plan complet sur 10 ans pour résoudre ces problèmes, en intégrant des technologies de ville intelligente, des infrastructures vertes et des solutions de transport innovantes. Prenez en compte les facteurs économiques, environnementaux et sociaux dans votre plan.\"}\n",
        "]\n",
        "\n",
        "outputs = pipe(messages, max_new_tokens=1024)\n",
        "assistant_response = outputs[0][\"generated_text\"][-1][\"content\"].strip()\n",
        "print(assistant_response)"
      ],
      "metadata": {
        "colab": {
          "base_uri": "https://localhost:8080/"
        },
        "id": "jznH4m2Wtzo-",
        "outputId": "f9db2aad-e2d6-4327-d174-ed6743e1aff4"
      },
      "execution_count": 21,
      "outputs": [
        {
          "output_type": "stream",
          "name": "stdout",
          "text": [
            "## Plan de développement urbain durable pour une ville en croissance rapide (500 000 habitants)\n",
            "\n",
            "**Objectif:** Créer une ville inclusive, durable et compétitive en 10 ans, en minimisant les impacts environnementaux et sociaux tout en répondant aux besoins de la population.\n",
            "\n",
            "**Principes:**\n",
            "\n",
            "* **Intégration des technologies de ville intelligente:** Optimiser l'utilisation des ressources, améliorer la qualité de vie et la sécurité.\n",
            "* **Infrastructures vertes:** Promouvoir la biodiversité, la résilience et la réduction des émissions de gaz à effet de serre.\n",
            "* **Solutions de transport innovantes:** Réduire la congestion et les émissions de CO2, favorisant les modes de transport durables.\n",
            "* **Equilibre économique et social:** Favoriser l'emploi, l'inclusion et la participation citoyenne.\n",
            "\n",
            "**Phase 1 (Années 1-3): Consolidation et Optimisation**\n",
            "\n",
            "* **Réduction de la congestion:**\n",
            "    * **Aménagement de voies de circulation intelligentes:** Optimisation des flux de circulation, gestion des feux de circulation, systèmes de signalisation adaptative.\n",
            "    * **Promotion des transports en commun:** Amélioration de la fréquence et de la qualité des services, développement de lignes de bus électriques et de tramways.\n",
            "    * **Encouragement du télétravail:** Création de zones de coworking et de services de télétravail.\n",
            "* **Amélioration de la qualité de l'air:**\n",
            "    * **Réduction des émissions industrielles:** Mise en place de normes environnementales strictes et d'incentives pour les entreprises.\n",
            "    * **Promotion des transports doux:** Création de pistes cyclables et de zones piétonnes sécurisées.\n",
            "    * **Aménagement des espaces verts:** Création de parcs et de jardins urbains pour absorber la pollution et améliorer la qualité de l'air.\n",
            "* **Solutions de logement:**\n",
            "    * **Aménagement de logements abordables:** Construction de logements sociaux et de logements à prix abordable.\n",
            "    * **Réhabilitation des bâtiments existants:** Transformation de bâtiments vacants en logements.\n",
            "    * **Promotion de l'urbanisme dense:** Encourage la construction de logements en hauteur et de bâtiments multifonctionnels.\n",
            "\n",
            "**Phase 2 (Années 4-6): Expansion et Innovation**\n",
            "\n",
            "* **Expansion urbaine intelligente:**\n",
            "    * **Utilisation de la géothermie et de l'énergie solaire:** Construction de bâtiments éco-responsables et d'infrastructures énergétiques durables.\n",
            "    * **Réduction de l'empreinte carbone:** Mise en place de programmes de réduction des émissions de CO2.\n",
            "    * **Création de zones d'activités économiques durables:** Développement de zones industrielles et commerciales respectueuses de l'environnement.\n",
            "* **Technologies de ville intelligente:**\n",
            "    * **Système de gestion des ressources:** Optimisation de l'eau, de l'énergie et des déchets.\n",
            "    * **Système de surveillance et de sécurité:** Utilisation de capteurs et de caméras pour améliorer la sécurité et la gestion des infrastructures.\n",
            "    * **Plateforme de communication et d'information:** Création d'une plateforme numérique pour informer les citoyens et faciliter la participation citoyenne.\n",
            "* **Solutions de transport innovantes:**\n",
            "    * **Véhicules autonomes:** Introduction de véhicules autonomes pour les transports urbains.\n",
            "    * **Transport en commun intelligent:** Optimisation des itinéraires et des horaires des transports en commun.\n",
            "    * **Réseau de mobilité douce:** Création de pistes cyclables et de zones piétonnes sécurisées.\n",
            "\n",
            "**Phase 3 (Années 7-10): Transition et Sustainability**\n",
            "\n",
            "* **Transition énergétique:**\n",
            "    * **Développement des énergies renouvelables:** Investissement dans l'énergie solaire, éolienne et géothermique.\n",
            "    * **Réduction de la consommation énergétique:** Mise en place de programmes de rénovation énergétique et d'économie d'énergie.\n",
            "    * **Promotion de la mobilité durable:** Encouragement de la mobilité douce et des transports en commun.\n",
            "* **Inclusion sociale et économique:**\n",
            "    * **Création d'emplois durables:** Investissement dans l'économie circulaire et l'innovation.\n",
            "    * **Formation et développement des compétences:** Programmes de formation et d'éducation pour les citoyens.\n",
            "    * **Promotion de la participation citoyenne:** Création de plateformes de dialogue et de participation citoyenne.\n",
            "* **Gestion durable des ressources:**\n",
            "    * **Réduction des déchets:** Mise en place de programmes de tri sélectif et de recyclage.\n",
            "    * **Gestion des eaux pluviales:** Création de systèmes d'irrigation et de récupération d'eau.\n",
            "    * **Protection de la biodiversité:** Création de zones protégées et de corridors écologiques.\n",
            "\n",
            "**Financement:**\n",
            "\n",
            "* **Investissements publics:** Financement des projets de développement urbain.\n",
            "* **Partenariats\n"
          ]
        }
      ]
    },
    {
      "cell_type": "code",
      "source": [
        "def chatbot():\n",
        "    print(\"Assistant: Bonjour ! Je suis votre assistant virtuel. Comment puis-je vous aider aujourd'hui ? (Tapez 'AGI' pour terminer la conversation)\")\n",
        "\n",
        "    conversation_history = \"\"\n",
        "\n",
        "    while True:\n",
        "        user_input = input(\"Vous: \")\n",
        "\n",
        "        if user_input.lower() == 'AGI':\n",
        "            print(\"Assistant: Au revoir ! J'espère avoir pu vous aider.\")\n",
        "            break\n",
        "\n",
        "        prompt = f\"{conversation_history}Human: {user_input}\\nAssistant:\"\n",
        "\n",
        "        outputs = pipe(prompt, max_new_tokens=256, temperature=0.7, top_k=50, top_p=0.95, do_sample=True)\n",
        "        assistant_response = outputs[0][\"generated_text\"].split(\"Assistant:\")[-1].split(\"Human:\")[0].strip()\n",
        "\n",
        "        print(\"Assistant:\", assistant_response)\n",
        "\n",
        "        conversation_history += f\"Human: {user_input}\\nAssistant: {assistant_response}\\n\"\n",
        "\n",
        "if __name__ == \"__main__\":\n",
        "    chatbot()"
      ],
      "metadata": {
        "colab": {
          "base_uri": "https://localhost:8080/"
        },
        "id": "oAVaCFknqiDt",
        "outputId": "af18469c-ce8a-499a-92f8-01c3f9173726"
      },
      "execution_count": 17,
      "outputs": [
        {
          "output_type": "stream",
          "name": "stdout",
          "text": [
            "Assistant: Bonjour ! Je suis votre assistant virtuel. Comment puis-je vous aider aujourd'hui ? (Tapez 'agi' pour terminer la conversation)\n",
            "Vous: salut\n",
            "Assistant: Salut! 👋 \n",
            "  \n",
            "How can I help you today? 😊\n",
            "Vous: je dois aller a paris que me conseille tu\n",
            "Assistant: C'est génial! Paris est une ville magnifique. Pour te conseiller, j'ai besoin de savoir un peu plus sur tes envies.\n",
            "\n",
            "* **Quand vas-tu aller à Paris?** \n",
            "* **Quel est ton budget?** \n",
            "* **Quelles sont tes activités préférées?** (musées, galeries d'art, shopping, gastronomie, nature, etc.)\n",
            "* **Combien de temps vas-tu rester à Paris?**\n",
            "\n",
            "Une fois que j'aurai ces informations, je pourrai te donner des conseils plus précis. 😊\n",
            "Vous: j'ai seulement 1000 € pour deux jours\n",
            "Assistant: 1000 € pour deux jours à Paris, c'est possible! 🇫🇷\n",
            "\n",
            "Voici quelques idées pour organiser tes 48 heures:\n",
            "\n",
            "**Option 1: Culture & Découverte**\n",
            "* **Jour 1:** Musée du Louvre (gratuit le 1er dimanche du mois) et balade dans le Marais.\n",
            "* **Jour 2:** Visite du Sacré-Cœur et du Jardin des Tuileries.\n",
            "* **Budget:** Prépare un budget d'environ 80 € par personne pour les entrées et les repas.\n",
            "\n",
            "**Option 2: Gastronomie & Shopping**\n",
            "* **Jour 1:** Promenade dans le quartier Latin et découverte de la gastronomie locale.\n",
            "* **Jour 2:** Shopping dans le Marais et dégustation de produits frais au marché de la Bastille.\n",
            "* **Budget:** Prépare un budget d'environ 80 € par personne pour les repas et les achats.\n",
            "\n",
            "**Option 3: Art & Nature**\n",
            "* **Jour 1:** Visite de l'Atelier des Lumières et balade dans le Parc des Buttes-Chaumont.\n",
            "* **Jour 2:** Visite de l'Île de la Cité et du Palais de Justice.\n",
            "* **\n",
            "Vous: agi\n",
            "Assistant: Au revoir ! J'espère avoir pu vous aider.\n"
          ]
        }
      ]
    },
    {
      "cell_type": "code",
      "source": [],
      "metadata": {
        "id": "yWn2-XijqmaO"
      },
      "execution_count": null,
      "outputs": []
    }
  ]
}